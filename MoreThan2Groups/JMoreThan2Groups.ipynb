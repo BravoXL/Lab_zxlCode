{
 "cells": [
  {
   "cell_type": "code",
   "execution_count": 81,
   "id": "128857a8-4c1a-46b2-83a4-eecc0ff45583",
   "metadata": {},
   "outputs": [],
   "source": [
    "import numpy as np\n",
    "import scipy.stats as stats\n",
    "import matplotlib.pyplot as plt\n",
    "import pandas as pd\n",
    "import statsmodels.api as sm\n",
    "from statsmodels.formula.api import ols"
   ]
  },
  {
   "cell_type": "code",
   "execution_count": 82,
   "id": "1f86a246-66bc-4bde-bccc-8e3bd0fc88af",
   "metadata": {},
   "outputs": [],
   "source": [
    "pd.set_option('display.float_format', '{:.10f}'.format)"
   ]
  },
  {
   "cell_type": "code",
   "execution_count": 83,
   "id": "d6405067-d611-40f0-a876-ebd1e7a047cd",
   "metadata": {},
   "outputs": [
    {
     "name": "stdout",
     "output_type": "stream",
     "text": [
      "ANOVA Table:\n",
      "                 sum_sq            df             F       PR(>F)\n",
      "group    310.0000000000  2.0000000000 20.6666666667 0.0001297463\n",
      "Residual  90.0000000000 12.0000000000           NaN          NaN\n",
      "存在显著差异，进行Tukey检验\n",
      "Tukey's HSD Pairwise Group Comparisons (95.0% Confidence Interval)\n",
      "Comparison  Statistic  p-value  Lower CI  Upper CI\n",
      " (0 - 1)      7.000     0.004     2.379    11.621\n",
      " (0 - 2)     11.000     0.000     6.379    15.621\n",
      " (1 - 0)     -7.000     0.004   -11.621    -2.379\n",
      " (1 - 2)      4.000     0.093    -0.621     8.621\n",
      " (2 - 0)    -11.000     0.000   -15.621    -6.379\n",
      " (2 - 1)     -4.000     0.093    -8.621     0.621\n",
      "\n",
      "Statistics: [[  0.   7.  11.]\n",
      " [ -7.   0.   4.]\n",
      " [-11.  -4.   0.]]\n",
      "P-values: [[1.00000000e+00 4.30732782e-03 1.00456261e-04]\n",
      " [4.30732782e-03 1.00000000e+00 9.28751843e-02]\n",
      " [1.00456261e-04 9.28751843e-02 1.00000000e+00]]\n",
      "Confidence Intervals (Low): <bound method TukeyHSDResult.confidence_interval of <scipy.stats._hypotests.TukeyHSDResult object at 0x1290c6b20>>\n"
     ]
    },
    {
     "data": {
      "image/png": "[encoded data removed]",
      "text/plain": [
       "<Figure size 640x480 with 1 Axes>"
      ]
     },
     "metadata": {},
     "output_type": "display_data"
    }
   ],
   "source": [
    "# 数据\n",
    "#A = [20, 22, 29, 21, 18]\n",
    "#B = [15, 14, 16, 13, 17]\n",
    "#C = [10, 12, 11, 9, 13]\n",
    "\n",
    "A = np.array([20, 22, 29, 21, 18])  # 替换为你的数据\n",
    "B = np.array([15, 14, 16, 13, 17])  # 替换为你的数据\n",
    "C = np.array([10, 12, 11, 9, 13]) \n",
    "\n",
    "\n",
    "# 将数据组合成一个列表\n",
    "data = [A, B, C]\n",
    "# 将组标签组合成一个列表\n",
    "groups = ['A', 'B', 'C']\n",
    "\n",
    "# 将数据转换为 DataFrame\n",
    "df = pd.DataFrame({\n",
    "    'value': np.concatenate([A, B, C]),\n",
    "    'group': np.repeat(groups, [len(A), len(B), len(C)])\n",
    "})\n",
    "\n",
    "# 使用 statsmodels 进行单因素方差分析\n",
    "model = ols('value ~ group', data=df).fit()\n",
    "anova_table = sm.stats.anova_lm(model, typ=2)  # typ=2 表示使用 Type II 平方和\n",
    "\n",
    "# 输出 ANOVA 表格\n",
    "print(\"ANOVA Table:\")\n",
    "print(anova_table)\n",
    "\n",
    "# 提取 F 值和 p 值\n",
    "F = anova_table['F']['group']\n",
    "p = anova_table['PR(>F)']['group']\n",
    "\n",
    "# 判断是否存在显著差异\n",
    "if p < 0.05:\n",
    "    print(\"存在显著差异，进行Tukey检验\")\n",
    "    # 第二步：Tukey检验\n",
    "    tukey_result = stats.tukey_hsd(A, B, C)\n",
    "    print(tukey_result)\n",
    "\n",
    "  \n",
    "    print(\"Statistics:\", tukey_result.statistic)\n",
    "    print(\"P-values:\", tukey_result.pvalue)\n",
    "    print(\"Confidence Intervals (Low):\", tukey_result.confidence_interval)\n",
    "\n",
    "\n",
    "else:\n",
    "    print(\"不存在显著差异\")\n",
    "\n",
    "# 绘制柱状图\n",
    "means = [np.mean(x) for x in data]\n",
    "errors = [np.std(x) / np.sqrt(len(x)) for x in data]\n",
    "x = np.arange(len(groups))\n",
    "\n",
    "plt.bar(x, means, yerr=errors, capsize=5, label='Mean ± SEM')\n",
    "plt.xticks(x, groups)\n",
    "\n",
    "# 标记显著性差异\n",
    "if p < 0.05:\n",
    "    # 提取组间比较的结果\n",
    "    group_indices = list(range(len(groups)))\n",
    "    for i in range(len(groups)):\n",
    "        for j in range(i + 1, len(groups)):\n",
    "            # 提取Tukey检验的p值\n",
    "            pval = tukey_result.pvalue[i, j]\n",
    "            if pval < 0.05:\n",
    "                # 计算标记位置\n",
    "                x1, x2 = i, j\n",
    "                y = max(means[x1], means[x2]) + max(errors[x1], errors[x2]) + 1\n",
    "                plt.plot([x1, x1, x2, x2], [y - 0.2, y, y, y - 0.2], lw=1.5, color='black')\n",
    "                plt.text((x1 + x2) * 0.5, y, '*' if pval > 0.001 else '**', ha='center', va='bottom', color='black')\n",
    "\n",
    "plt.ylabel('Mean Value')\n",
    "plt.title('Comparison of Means among Groups')\n",
    "plt.legend()\n",
    "plt.show()"
   ]
  },
  {
   "cell_type": "code",
   "execution_count": 61,
   "id": "1c932bce-d2b4-4f0f-8cad-99c9c5199f7d",
   "metadata": {},
   "outputs": [
    {
     "name": "stdout",
     "output_type": "stream",
     "text": [
      "['__class__', '__delattr__', '__dict__', '__dir__', '__doc__', '__eq__', '__format__', '__ge__', '__getattribute__', '__gt__', '__hash__', '__init__', '__init_subclass__', '__le__', '__lt__', '__module__', '__ne__', '__new__', '__reduce__', '__reduce_ex__', '__repr__', '__setattr__', '__sizeof__', '__str__', '__subclasshook__', '__weakref__', '_ci', '_ci_cl', '_nobs', '_ntreatments', '_stand_err', 'confidence_interval', 'pvalue', 'statistic']\n"
     ]
    }
   ],
   "source": [
    "\n",
    "print(dir(tukey_result))\n"
   ]
  },
  {
   "cell_type": "code",
   "execution_count": null,
   "id": "c4217c3a-3135-4e11-99a8-eea4ab4b1d0a",
   "metadata": {},
   "outputs": [],
   "source": []
  }
 ],
 "metadata": {
  "kernelspec": {
   "display_name": "Python 3 (ipykernel)",
   "language": "python",
   "name": "python3"
  },
  "language_info": {
   "codemirror_mode": {
    "name": "ipython",
    "version": 3
   },
   "file_extension": ".py",
   "mimetype": "text/x-python",
   "name": "python",
   "nbconvert_exporter": "python",
   "pygments_lexer": "ipython3",
   "version": "3.8.20"
  }
 },
 "nbformat": 4,
 "nbformat_minor": 5
}
